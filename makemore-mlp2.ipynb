{
 "cells": [
  {
   "attachments": {},
   "cell_type": "markdown",
   "metadata": {},
   "source": [
    "Multi Layer Perceptron @ Bengio"
   ]
  },
  {
   "cell_type": "code",
   "execution_count": 1,
   "metadata": {},
   "outputs": [],
   "source": [
    "import torch\n",
    "import torch.nn.functional as F\n",
    "import matplotlib.pyplot as plt\n",
    "%matplotlib inline"
   ]
  },
  {
   "cell_type": "code",
   "execution_count": 2,
   "metadata": {},
   "outputs": [
    {
     "data": {
      "text/plain": [
       "['emma', 'olivia', 'ava', 'isabella', 'sophia']"
      ]
     },
     "execution_count": 2,
     "metadata": {},
     "output_type": "execute_result"
    }
   ],
   "source": [
    "words = open(file=\"names.txt\", mode=\"r\").read().splitlines()\n",
    "words[:5]"
   ]
  },
  {
   "cell_type": "code",
   "execution_count": 3,
   "metadata": {},
   "outputs": [
    {
     "data": {
      "text/plain": [
       "32033"
      ]
     },
     "execution_count": 3,
     "metadata": {},
     "output_type": "execute_result"
    }
   ],
   "source": [
    "word_len = len(words)\n",
    "word_len"
   ]
  },
  {
   "attachments": {},
   "cell_type": "markdown",
   "metadata": {},
   "source": [
    "Building character to index and vice-versa mappings"
   ]
  },
  {
   "cell_type": "code",
   "execution_count": 4,
   "metadata": {},
   "outputs": [
    {
     "name": "stdout",
     "output_type": "stream",
     "text": [
      "{1: 'a', 2: 'b', 3: 'c', 4: 'd', 5: 'e', 6: 'f', 7: 'g', 8: 'h', 9: 'i', 10: 'j', 11: 'k', 12: 'l', 13: 'm', 14: 'n', 15: 'o', 16: 'p', 17: 'q', 18: 'r', 19: 's', 20: 't', 21: 'u', 22: 'v', 23: 'w', 24: 'x', 25: 'y', 26: 'z', 0: '.'}\n",
      "27\n"
     ]
    }
   ],
   "source": [
    "chars = sorted(list(set(\"\".join(words))))\n",
    "stoi = {s: i+1 for i, s in enumerate(chars)}\n",
    "stoi[\".\"] = 0\n",
    "itos = {i:s for s, i in stoi.items()}\n",
    "vocab_size = len(itos)\n",
    "print(itos)\n",
    "print(vocab_size)"
   ]
  },
  {
   "attachments": {},
   "cell_type": "markdown",
   "metadata": {},
   "source": [
    "Creating the dataset with context window"
   ]
  },
  {
   "cell_type": "code",
   "execution_count": 12,
   "metadata": {},
   "outputs": [
    {
     "name": "stdout",
     "output_type": "stream",
     "text": [
      "torch.Size([182625, 3]) torch.Size([182625])\n",
      "torch.Size([22655, 3]) torch.Size([22655])\n",
      "torch.Size([22866, 3]) torch.Size([22866])\n"
     ]
    }
   ],
   "source": [
    "window = 3\n",
    "\n",
    "def build_dataset(words):\n",
    "  X, Y = [], []\n",
    "\n",
    "  for w in words:\n",
    "    context = [0] * window\n",
    "    for ch in w + \".\":\n",
    "      ix = stoi[ch]\n",
    "      X.append(context)\n",
    "      Y.append(ix)\n",
    "      context = context[1:] + [ix]\n",
    "\n",
    "  X = torch.tensor(X)\n",
    "  Y = torch.tensor(Y)\n",
    "  print(X.shape, Y.shape)\n",
    "  return X, Y\n",
    "\n",
    "import random\n",
    "random.seed(42)\n",
    "random.shuffle(words)\n",
    "\n",
    "n1 = int(0.8 * len(words))\n",
    "n2 = int(0.9 * len(words))\n",
    "\n",
    "X_train, Y_train = build_dataset(words[:n1])\n",
    "X_dev, Y_dev = build_dataset(words[n1:n2])\n",
    "X_test, Y_test = build_dataset(words[n2:])"
   ]
  },
  {
   "attachments": {},
   "cell_type": "markdown",
   "metadata": {},
   "source": [
    "Weight and Bias Initialization"
   ]
  },
  {
   "cell_type": "code",
   "execution_count": 50,
   "metadata": {},
   "outputs": [
    {
     "name": "stdout",
     "output_type": "stream",
     "text": [
      "Parameter count: 12297\n"
     ]
    }
   ],
   "source": [
    "n_embed = 10 # character embedding dims (27, n_embed) 27 because we have 27 character classes\n",
    "n_hidden = 200 # size of the hidden layer\n",
    "\n",
    "init_gen = torch.Generator().manual_seed(2147483647)\n",
    "\n",
    "C = torch.randn((vocab_size, n_embed), generator=init_gen)\n",
    "W1 = torch.randn((n_embed * window, n_hidden), generator=init_gen) * (5/3) / ((n_embed * window)**0.5)\n",
    "b1 = torch.randn(n_hidden, generator=init_gen) * 0.01\n",
    "W2 = torch.randn((n_hidden, vocab_size), generator=init_gen) * 0.01\n",
    "b2 = torch.randn(vocab_size, generator=init_gen) * 0\n",
    "\n",
    "bngain = torch.ones((1, n_hidden))\n",
    "bnbias = torch.zeros((1, n_hidden))\n",
    "bnmean_r = torch.zeros((1, n_hidden))\n",
    "bnstd_r = torch.ones((1, n_hidden))\n",
    "\n",
    "params = [C, W1, b1, W2, b2, bngain, bnbias]\n",
    "print(\"Parameter count:\", sum(p.nelement() for p in params))\n",
    "\n",
    "for p in params:\n",
    "  p.requires_grad = True"
   ]
  },
  {
   "attachments": {},
   "cell_type": "markdown",
   "metadata": {},
   "source": [
    "Model Training"
   ]
  },
  {
   "cell_type": "code",
   "execution_count": 51,
   "metadata": {},
   "outputs": [
    {
     "name": "stdout",
     "output_type": "stream",
     "text": [
      "      0/ 200000: 3.3147\n",
      "  10000/ 200000: 2.1984\n",
      "  20000/ 200000: 2.3375\n",
      "  30000/ 200000: 2.4359\n",
      "  40000/ 200000: 2.0119\n",
      "  50000/ 200000: 2.2595\n",
      "  60000/ 200000: 2.4775\n",
      "  70000/ 200000: 2.1020\n",
      "  80000/ 200000: 2.2788\n",
      "  90000/ 200000: 2.1862\n",
      " 100000/ 200000: 1.9474\n",
      " 110000/ 200000: 2.3010\n",
      " 120000/ 200000: 1.9837\n",
      " 130000/ 200000: 2.4523\n",
      " 140000/ 200000: 2.3839\n",
      " 150000/ 200000: 2.1987\n",
      " 160000/ 200000: 1.9733\n",
      " 170000/ 200000: 1.8668\n",
      " 180000/ 200000: 1.9973\n",
      " 190000/ 200000: 1.8347\n"
     ]
    }
   ],
   "source": [
    "max_steps = 200000\n",
    "batch_size = 32\n",
    "lossi = []\n",
    "\n",
    "for i in range(max_steps):\n",
    "\n",
    "  # mini-batch\n",
    "  ix = torch.randint(0, X_train.shape[0], (batch_size,), generator=init_gen)\n",
    "  X_b, Y_b = X_train[ix], Y_train[ix]\n",
    "\n",
    "  # forward pass\n",
    "  embed = C[X_b]\n",
    "  embedcat = embed.view(embed.shape[0], -1)\n",
    "  hpreact = embedcat @ W1 + b1\n",
    "  # BatchNorm layer\n",
    "  bnmeani = hpreact.mean(0, keepdim=True)\n",
    "  bnstdi = hpreact.std(0, keepdim=True)\n",
    "  hpreact = bngain * (hpreact - bnmeani) / bnstdi + bnbias\n",
    "\n",
    "  with torch.no_grad():\n",
    "\n",
    "    bnmean_r = 0.999 * bnmean_r + 0.001 * bnmeani\n",
    "    bnstd_r = 0.999 * bnstd_r + 0.001 * bnstdi\n",
    "\n",
    "  h = torch.tanh(hpreact)\n",
    "  logits = h @ W2 + b2\n",
    "  loss = F.cross_entropy(logits, Y_b)\n",
    "\n",
    "  # backward pass\n",
    "  for p in params:\n",
    "    p.grad = None\n",
    "  loss.backward()\n",
    "\n",
    "  # update\n",
    "  lr = 0.1 if i < 100000 else 0.01\n",
    "  for p in params:\n",
    "    p.data += -lr * p.grad\n",
    "\n",
    "  # stats\n",
    "  if i % 10000 == 0:\n",
    "    print(f\"{i:7d}/{max_steps:7d}: {loss.item():.4f}\")\n",
    "  lossi.append(loss.log10().item())"
   ]
  },
  {
   "attachments": {},
   "cell_type": "markdown",
   "metadata": {},
   "source": [
    "Plotting loss function"
   ]
  },
  {
   "cell_type": "code",
   "execution_count": 53,
   "metadata": {},
   "outputs": [
    {
     "data": {
      "text/plain": [
       "[<matplotlib.lines.Line2D at 0x1be1c32ec70>]"
      ]
     },
     "execution_count": 53,
     "metadata": {},
     "output_type": "execute_result"
    },
    {
     "data": {
      "image/png": "[encoded data removed]",
      "text/plain": [
       "<Figure size 432x288 with 1 Axes>"
      ]
     },
     "metadata": {
      "needs_background": "light"
     },
     "output_type": "display_data"
    }
   ],
   "source": [
    "plt.plot(lossi)"
   ]
  },
  {
   "cell_type": "code",
   "execution_count": 54,
   "metadata": {},
   "outputs": [
    {
     "name": "stdout",
     "output_type": "stream",
     "text": [
      "train 2.06659197807312\n",
      "val 2.1050572395324707\n"
     ]
    }
   ],
   "source": [
    "@torch.no_grad() # decorator disables gradient tracking\n",
    "def split_loss(split):\n",
    "  x, y = {\n",
    "    'train': (X_train, Y_train),\n",
    "    'val': (X_dev, Y_dev),\n",
    "    'test': (X_test, Y_test),\n",
    "  }[split]\n",
    "\n",
    "  embed = C[x]\n",
    "  embedcat = embed.view(embed.shape[0], -1)\n",
    "  hpreact = embedcat @ W1 + b1\n",
    "  hpreact = bngain * (hpreact - bnmean_r) / bnstd_r + bnbias\n",
    "  h = torch.tanh(hpreact)\n",
    "  logits = h @ W2 + b2\n",
    "  loss = F.cross_entropy(logits, y)\n",
    "  print(split, loss.item())\n",
    "\n",
    "split_loss('train')\n",
    "split_loss('val')"
   ]
  },
  {
   "attachments": {},
   "cell_type": "markdown",
   "metadata": {},
   "source": [
    "train: 2.0355966091156006\n",
    "val: 2.1026782989501953"
   ]
  },
  {
   "cell_type": "code",
   "execution_count": 59,
   "metadata": {},
   "outputs": [
    {
     "name": "stdout",
     "output_type": "stream",
     "text": [
      "nsxablazhbndevagtobixaibhll.\n",
      "bjuanthvyahldmoumbignfregh.\n",
      "susklj.\n",
      "khel.\n",
      "brugodggssefgadlaymiezlinyfkllmbygh.\n",
      "lubbigfernastaphann.\n",
      "briyasamaylynn.\n",
      "basislayus.\n",
      "vihriskldwi.\n",
      "qulphn.\n",
      "bdumriessafthn.\n",
      "brudshthassiagubtd.\n",
      "rsabby.\n",
      "ddricsllvyiqaslusssklissidrathlangvaclnnhxaughn.\n",
      "khmberiss.\n",
      "fennisehmtmilsasn.\n",
      "prablavahmbern.\n",
      "braijnnymarlisukamdyl.\n",
      "had.\n",
      "zasdy.\n"
     ]
    }
   ],
   "source": [
    "gen = torch.Generator().manual_seed(2147483647 + 10)\n",
    "\n",
    "for _ in range(20):\n",
    "\n",
    "  out = []\n",
    "  context = [0] * window\n",
    "  while True:\n",
    "\n",
    "    embed = C[torch.tensor([context])]\n",
    "    h = torch.tanh(embed.view(1, -1) @ W1 + b1)\n",
    "    logits = h @ W2 + b2\n",
    "    probs = F.softmax(logits, dim=1)\n",
    "\n",
    "    ix = torch.multinomial(probs, num_samples=1, generator=gen).item()\n",
    "\n",
    "    context = context[1:] + [ix]\n",
    "    out.append(ix)\n",
    "\n",
    "    if ix == 0:\n",
    "      break\n",
    "\n",
    "  print(\"\".join(itos[i] for i in out))"
   ]
  },
  {
   "attachments": {},
   "cell_type": "markdown",
   "metadata": {},
   "source": [
    "*We need to multiply a factor to the initialized weights and biases such that the input std and weight std are roughly the same. We can do this by multiplying layers with (input)^1/2 (dependent on activation fn). Alternatively, we can initialize using torch.nn.init.kaiming_normal (refer docs)"
   ]
  },
  {
   "attachments": {},
   "cell_type": "markdown",
   "metadata": {},
   "source": [
    "for inference fix the means and std, bias taken care by batch norm"
   ]
  },
  {
   "attachments": {},
   "cell_type": "markdown",
   "metadata": {},
   "source": [
    "Pytorchifying Code"
   ]
  },
  {
   "cell_type": "code",
   "execution_count": 40,
   "metadata": {},
   "outputs": [],
   "source": [
    "class Linear:\n",
    "\n",
    "  def __init__(self, fan_in, fan_out, bias=True):\n",
    "    self.weight = torch.randn(size=(fan_in, fan_out), generator=init_gen) / (fan_in**0.5)\n",
    "    self.bias = torch.zeros(fan_out) if bias else None\n",
    "\n",
    "  def __call__(self, x):\n",
    "    self.out = x @ self.weight\n",
    "    if self.bias is not None:\n",
    "      self.out += self.bias\n",
    "\n",
    "    return self.out\n",
    "\n",
    "  def parameters(self):\n",
    "    return [self.weight] + ([] if self.bias is None else [self.bias])"
   ]
  },
  {
   "cell_type": "code",
   "execution_count": 41,
   "metadata": {},
   "outputs": [],
   "source": [
    "class BatchNorm1d:\n",
    "\n",
    "  def __init__(self, dim, eps=1e-5, momentum=0.1):\n",
    "    self.eps = eps\n",
    "    self.momentum = momentum\n",
    "    self.training = True\n",
    "    # params trained with backprop\n",
    "    self.gamma = torch.ones(dim)\n",
    "    self.beta = torch.zeros(dim)\n",
    "    # buffers (trained with running momentum update)\n",
    "    self.running_mean = torch.zeros(dim)\n",
    "    self.running_var = torch.ones(dim)\n",
    "\n",
    "    def __call__(self, x):\n",
    "      # forward pass\n",
    "      if self.training:\n",
    "        xmean = x.mean(0, keepdim=True)\n",
    "        xvar = x.var(0, keepdim=True)\n",
    "      else:\n",
    "        xmean = self.running_mean\n",
    "        xvar = self.running_var\n",
    "\n",
    "      xhat = (x - xmean) / torch.sqrt(xvar + self.eps)\n",
    "      self.out = self.gamma + xhat + self.beta\n",
    "\n",
    "      # update\n",
    "      if self.training:\n",
    "        with torch.no_grad():\n",
    "          self.running_mean = (1 - self.momentum) * self.running_mean + self.momentum * xmean\n",
    "          self.running_var = (1 - self.momentum) * self.running_var + self.momentum * xvar\n",
    "\n",
    "      return self.out\n",
    "\n",
    "    def parameters(self):\n",
    "      return [self.gamma, self.beta]"
   ]
  },
  {
   "cell_type": "code",
   "execution_count": 42,
   "metadata": {},
   "outputs": [],
   "source": [
    "class Tanh:\n",
    "\n",
    "  def __call__(self, x):\n",
    "    self.out = torch.tanh(x)\n",
    "    return self.out\n",
    "\n",
    "  def parameters(self):\n",
    "    return []"
   ]
  },
  {
   "cell_type": "code",
   "execution_count": 43,
   "metadata": {},
   "outputs": [],
   "source": [
    "n_embed = 10\n",
    "n_hidden = 100\n",
    "\n",
    "init_gen = torch.Generator().manual_seed(2147483647)\n",
    "\n",
    "C = torch.randn((vocab_size, n_embed), generator=init_gen)\n",
    "layers = [\n",
    "  Linear(n_embed * window, n_hidden), Tanh(),\n",
    "  Linear(n_hidden, n_hidden), Tanh(),\n",
    "  Linear(n_hidden, n_hidden), Tanh(),\n",
    "  Linear(n_hidden, n_hidden), Tanh(),\n",
    "  Linear(n_hidden, n_hidden), Tanh(),\n",
    "  Linear(n_hidden, vocab_size)\n",
    "]"
   ]
  },
  {
   "cell_type": "code",
   "execution_count": 44,
   "metadata": {},
   "outputs": [],
   "source": [
    "with torch.no_grad():\n",
    "\n",
    "  layers[-1].weight *= 0.1\n",
    "\n",
    "  for layer in layers[:-1]:\n",
    "    if isinstance(layer, Linear):\n",
    "      layer.weight *= 5/3"
   ]
  },
  {
   "cell_type": "code",
   "execution_count": 45,
   "metadata": {},
   "outputs": [
    {
     "name": "stdout",
     "output_type": "stream",
     "text": [
      "46497\n"
     ]
    }
   ],
   "source": [
    "parameters = [C] + [p for layer in layers for p in layer.parameters()]\n",
    "print(sum(p.nelement() for p in parameters))\n",
    "\n",
    "for p in parameters:\n",
    "  p.requires_grad = True"
   ]
  },
  {
   "cell_type": "code",
   "execution_count": 46,
   "metadata": {},
   "outputs": [
    {
     "name": "stdout",
     "output_type": "stream",
     "text": [
      "      0/ 200000: 3.2962\n"
     ]
    }
   ],
   "source": [
    "max_steps = 200000\n",
    "batch_size = 32\n",
    "lossi = []\n",
    "\n",
    "for i in range(max_steps):\n",
    "\n",
    "  # mini-batch\n",
    "  ix = torch.randint(0, X_train.shape[0], (batch_size,), generator=init_gen)\n",
    "  X_b, Y_b = X_train[ix], Y_train[ix]\n",
    "\n",
    "  # forward pass\n",
    "  embed = C[X_b]\n",
    "  x = embed.view(embed.shape[0], -1)\n",
    "\n",
    "  for layer in layers:\n",
    "    x = layer(x)\n",
    "\n",
    "  loss = F.cross_entropy(x, Y_b) # loss function\n",
    "\n",
    "  # backward pass\n",
    "  for layer in layers:\n",
    "    layer.out.retain_grad()\n",
    "\n",
    "  for p in parameters:\n",
    "    p.grad = None\n",
    "\n",
    "  loss.backward()\n",
    "\n",
    "  # update\n",
    "  lr = 0.1 if i < 100000 else 0.01\n",
    "  for p in parameters:\n",
    "    p.data += -lr * p.grad\n",
    "\n",
    "  # stats tracking\n",
    "  if i % 10000 == 0:\n",
    "    print(f\"{i:7d}/{max_steps:7d}: {loss.item():.4f}\")\n",
    "\n",
    "  lossi.append(loss.log10().item())\n",
    "\n",
    "  break"
   ]
  },
  {
   "attachments": {},
   "cell_type": "markdown",
   "metadata": {},
   "source": [
    "Visualizing histogram"
   ]
  },
  {
   "cell_type": "code",
   "execution_count": 47,
   "metadata": {},
   "outputs": [
    {
     "name": "stdout",
     "output_type": "stream",
     "text": [
      "layer 1 (      Tanh): mean -0.02, std 0.75, saturated: 20.25%\n",
      "layer 3 (      Tanh): mean -0.00, std 0.69, saturated: 8.38%\n",
      "layer 5 (      Tanh): mean +0.00, std 0.67, saturated: 6.62%\n",
      "layer 7 (      Tanh): mean -0.01, std 0.66, saturated: 5.47%\n",
      "layer 9 (      Tanh): mean -0.02, std 0.66, saturated: 6.12%\n"
     ]
    },
    {
     "data": {
      "text/plain": [
       "Text(0.5, 1.0, 'Activation Distribution')"
      ]
     },
     "execution_count": 47,
     "metadata": {},
     "output_type": "execute_result"
    },
    {
     "data": {
      "image/png": "[encoded data removed]",
      "text/plain": [
       "<Figure size 1440x288 with 1 Axes>"
      ]
     },
     "metadata": {
      "needs_background": "light"
     },
     "output_type": "display_data"
    }
   ],
   "source": [
    "plt.figure(figsize=(20, 4))\n",
    "legends = []\n",
    "\n",
    "for i, layer in enumerate(layers[:-1]):\n",
    "  if isinstance(layer, Tanh):\n",
    "    t = layer.out\n",
    "    print(\"layer %d (%10s): mean %+.2f, std %.2f, saturated: %.2f%%\" % (i, layer.__class__.__name__, t.mean(), t.std(), (t.abs() > 0.97).float().mean()*100))\n",
    "    hy, hx = torch.histogram(t, density=True)\n",
    "    plt.plot(hx[:-1].detach(), hy.detach())\n",
    "    legends.append(f\"layer {i} ({layer.__class__.__name__})\")\n",
    "\n",
    "plt.legend(legends)\n",
    "plt.title(\"Activation Distribution\")"
   ]
  },
  {
   "cell_type": "code",
   "execution_count": null,
   "metadata": {},
   "outputs": [],
   "source": []
  }
 ],
 "metadata": {
  "kernelspec": {
   "display_name": "Python 3",
   "language": "python",
   "name": "python3"
  },
  "language_info": {
   "codemirror_mode": {
    "name": "ipython",
    "version": 3
   },
   "file_extension": ".py",
   "mimetype": "text/x-python",
   "name": "python",
   "nbconvert_exporter": "python",
   "pygments_lexer": "ipython3",
   "version": "3.9.2"
  },
  "orig_nbformat": 4,
  "vscode": {
   "interpreter": {
    "hash": "2b9dfff7b51cc1688c7cfa732c957a22f0e1ad605493f822f59c3fa5410fc251"
   }
  }
 },
 "nbformat": 4,
 "nbformat_minor": 2
}
